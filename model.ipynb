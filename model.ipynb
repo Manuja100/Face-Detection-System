{
 "cells": [
  {
   "cell_type": "code",
   "execution_count": 87,
   "metadata": {},
   "outputs": [],
   "source": [
    "#import tensorflow and keras for neural network model\n",
    "import tensorflow as tf\n",
    "from tensorflow import keras\n",
    "from sklearn.model_selection import train_test_split"
   ]
  },
  {
   "cell_type": "code",
   "execution_count": 88,
   "metadata": {},
   "outputs": [],
   "source": [
    "import numpy as np #better array manipulation\n",
    "from PIL import Image #loading images\n",
    "import os #to work with the computer OS\n"
   ]
  },
  {
   "cell_type": "code",
   "execution_count": 89,
   "metadata": {},
   "outputs": [],
   "source": [
    "#this is a function to load the data and also pre process the data\n",
    "def load_images(file, label):\n",
    "    #create two lists to store the images and labels\n",
    "    images = []\n",
    "    labels = []\n",
    "    #iterate through a loop to get the file names and import the images\n",
    "    for f in os.listdir(file):\n",
    "        img = Image.open(os.path.join(file, f))\n",
    "        #resize the image. The same should be done in the main program when predicting the data from the model\n",
    "        img = img.resize((200, 200))\n",
    "        #converting to array\n",
    "        img_array = np.array(img)\n",
    "        images.append(img_array)\n",
    "        labels.append(label)\n",
    "    #return a list of the images and the labels\n",
    "    return np.array(images), np.array(labels)"
   ]
  },
  {
   "cell_type": "code",
   "execution_count": 90,
   "metadata": {},
   "outputs": [],
   "source": [
    "#file paths to the images\n",
    "positive_face_file = 'test_images/face'\n",
    "negative_face_file = 'test_images/no_face'"
   ]
  },
  {
   "cell_type": "code",
   "execution_count": 91,
   "metadata": {},
   "outputs": [],
   "source": [
    "#here the images are loaded using the load_image() function. \n",
    "#labels, 1 is given for the images with faces\n",
    "#0 is given for the images without faces\n",
    "positive_face_images , positive_face_labels = load_images(positive_face_file, 1)\n",
    "negative_face_images, negative_face_labels = load_images(negative_face_file, 0)"
   ]
  },
  {
   "cell_type": "code",
   "execution_count": 92,
   "metadata": {},
   "outputs": [],
   "source": [
    "#lets merge all the labels and the images together\n",
    "all_images = np.concatenate((positive_face_images, negative_face_images), axis = 0)\n",
    "all_labels = np.concatenate((positive_face_labels, negative_face_labels), axis = 0)"
   ]
  },
  {
   "cell_type": "code",
   "execution_count": 93,
   "metadata": {},
   "outputs": [],
   "source": [
    "#split them for training using the train_test_split. \n",
    "X_train, X_test, y_train, y_test = train_test_split(all_images, all_labels, test_size=0.2, random_state=42)"
   ]
  },
  {
   "cell_type": "code",
   "execution_count": 94,
   "metadata": {},
   "outputs": [],
   "source": [
    "#Data Augmentation - used (rotation, zoom, flip and fill new pixels)\n",
    "from tensorflow.keras.preprocessing.image import ImageDataGenerator\n",
    "datagen = ImageDataGenerator(\n",
    "    rotation_range=20,\n",
    "    zoom_range=0.2,\n",
    "    horizontal_flip=True,\n",
    "    fill_mode='nearest'\n",
    ")"
   ]
  },
  {
   "cell_type": "code",
   "execution_count": 95,
   "metadata": {},
   "outputs": [],
   "source": [
    "datagen.fit(X_train)"
   ]
  },
  {
   "cell_type": "code",
   "execution_count": 96,
   "metadata": {},
   "outputs": [],
   "source": [
    "#regularizer initialization\n",
    "regularizer = tf.keras.regularizers.l2(0.01)\n",
    "#model architecture - 3 conv layers and 3 max pooling layers\n",
    "model = tf.keras.models.Sequential([\n",
    "    #1st conv layer with filter size 32 and also filter matrix size of 3\n",
    "    #input shape needs to be same as image size and since images are RGB, 3 is for 3 layers of RGB\n",
    "    tf.keras.layers.Conv2D(filters =32,kernel_size=3,activation='relu', input_shape=(200, 200,3),  kernel_regularizer=regularizer),\n",
    "    tf.keras.layers.MaxPooling2D(pool_size=2),\n",
    "\n",
    "    tf.keras.layers.Conv2D(filters =64,kernel_size=3,activation='relu',  kernel_regularizer=regularizer),\n",
    "    tf.keras.layers.MaxPooling2D(pool_size=2),\n",
    "\n",
    "    tf.keras.layers.Conv2D(filters =128,kernel_size=3,activation='relu',  kernel_regularizer=regularizer),\n",
    "    tf.keras.layers.MaxPooling2D(pool_size=2),\n",
    "\n",
    "    #flatten the conv layers\n",
    "    tf.keras.layers.Flatten(),\n",
    "\n",
    "    tf.keras.layers.Dense(128, activation='relu',  kernel_regularizer=regularizer),\n",
    "    #output neuron/layer will have activation of sigmoid to get a value between 0-1\n",
    "    tf.keras.layers.Dense(1, activation='sigmoid')\n",
    "])"
   ]
  },
  {
   "cell_type": "code",
   "execution_count": 103,
   "metadata": {},
   "outputs": [
    {
     "name": "stdout",
     "output_type": "stream",
     "text": [
      "Model: \"sequential_15\"\n",
      "_________________________________________________________________\n",
      " Layer (type)                Output Shape              Param #   \n",
      "=================================================================\n",
      " conv2d_43 (Conv2D)          (None, 198, 198, 32)      896       \n",
      "                                                                 \n",
      " max_pooling2d_43 (MaxPooli  (None, 99, 99, 32)        0         \n",
      " ng2D)                                                           \n",
      "                                                                 \n",
      " conv2d_44 (Conv2D)          (None, 97, 97, 64)        18496     \n",
      "                                                                 \n",
      " max_pooling2d_44 (MaxPooli  (None, 48, 48, 64)        0         \n",
      " ng2D)                                                           \n",
      "                                                                 \n",
      " conv2d_45 (Conv2D)          (None, 46, 46, 128)       73856     \n",
      "                                                                 \n",
      " max_pooling2d_45 (MaxPooli  (None, 23, 23, 128)       0         \n",
      " ng2D)                                                           \n",
      "                                                                 \n",
      " flatten_15 (Flatten)        (None, 67712)             0         \n",
      "                                                                 \n",
      " dense_30 (Dense)            (None, 128)               8667264   \n",
      "                                                                 \n",
      " dense_31 (Dense)            (None, 1)                 129       \n",
      "                                                                 \n",
      "=================================================================\n",
      "Total params: 8760641 (33.42 MB)\n",
      "Trainable params: 8760641 (33.42 MB)\n",
      "Non-trainable params: 0 (0.00 Byte)\n",
      "_________________________________________________________________\n"
     ]
    }
   ],
   "source": [
    "model.summary()"
   ]
  },
  {
   "cell_type": "code",
   "execution_count": 97,
   "metadata": {},
   "outputs": [],
   "source": [
    "#optimizer Adam with custom learning rate\n",
    "optimizer = tf.keras.optimizers.Adam(learning_rate=0.001)\n",
    "#loss function with binary crossentropy\n",
    "model.compile(optimizer=optimizer, loss='binary_crossentropy', metrics=['accuracy'])"
   ]
  },
  {
   "cell_type": "code",
   "execution_count": 98,
   "metadata": {},
   "outputs": [
    {
     "name": "stdout",
     "output_type": "stream",
     "text": [
      "Epoch 1/15\n",
      "75/75 [==============================] - 67s 876ms/step - loss: 27.7906 - accuracy: 0.7762 - val_loss: 3.6617 - val_accuracy: 0.8788\n",
      "Epoch 2/15\n",
      "75/75 [==============================] - 73s 971ms/step - loss: 3.3461 - accuracy: 0.8475 - val_loss: 2.9391 - val_accuracy: 0.8956\n",
      "Epoch 3/15\n",
      "75/75 [==============================] - 62s 826ms/step - loss: 2.7570 - accuracy: 0.8601 - val_loss: 2.4711 - val_accuracy: 0.9108\n",
      "Epoch 4/15\n",
      "75/75 [==============================] - 69s 921ms/step - loss: 2.3903 - accuracy: 0.8816 - val_loss: 2.1678 - val_accuracy: 0.9125\n",
      "Epoch 5/15\n",
      "75/75 [==============================] - 71s 948ms/step - loss: 2.1362 - accuracy: 0.8799 - val_loss: 1.9392 - val_accuracy: 0.9259\n",
      "Epoch 6/15\n",
      "75/75 [==============================] - 80s 1s/step - loss: 1.9448 - accuracy: 0.8879 - val_loss: 1.7707 - val_accuracy: 0.9125\n",
      "Epoch 7/15\n",
      "75/75 [==============================] - 67s 889ms/step - loss: 1.7964 - accuracy: 0.8862 - val_loss: 1.6609 - val_accuracy: 0.9276\n",
      "Epoch 8/15\n",
      "75/75 [==============================] - 80s 1s/step - loss: 1.6802 - accuracy: 0.8858 - val_loss: 1.5758 - val_accuracy: 0.9141\n",
      "Epoch 9/15\n",
      "75/75 [==============================] - 78s 1s/step - loss: 1.5520 - accuracy: 0.8921 - val_loss: 1.5249 - val_accuracy: 0.9091\n",
      "Epoch 10/15\n",
      "75/75 [==============================] - 76s 1s/step - loss: 1.4775 - accuracy: 0.8989 - val_loss: 1.3984 - val_accuracy: 0.9074\n",
      "Epoch 11/15\n",
      "75/75 [==============================] - 58s 771ms/step - loss: 1.3852 - accuracy: 0.9043 - val_loss: 1.3025 - val_accuracy: 0.9276\n",
      "Epoch 12/15\n",
      "75/75 [==============================] - 72s 958ms/step - loss: 1.3561 - accuracy: 0.8866 - val_loss: 1.2462 - val_accuracy: 0.9226\n",
      "Epoch 13/15\n",
      "75/75 [==============================] - 62s 827ms/step - loss: 1.2568 - accuracy: 0.9035 - val_loss: 1.1738 - val_accuracy: 0.9377\n",
      "Epoch 14/15\n",
      "75/75 [==============================] - 73s 967ms/step - loss: 1.1800 - accuracy: 0.9157 - val_loss: 1.0894 - val_accuracy: 0.9411\n",
      "Epoch 15/15\n",
      "75/75 [==============================] - 78s 1s/step - loss: 1.1201 - accuracy: 0.9149 - val_loss: 1.0493 - val_accuracy: 0.9461\n"
     ]
    }
   ],
   "source": [
    "#train model with 15 epochs\n",
    "history = model.fit(datagen.flow(X_train, y_train, batch_size=32), epochs=15, validation_data=(X_test, y_test)) "
   ]
  },
  {
   "cell_type": "code",
   "execution_count": null,
   "metadata": {},
   "outputs": [],
   "source": []
  },
  {
   "cell_type": "code",
   "execution_count": 99,
   "metadata": {},
   "outputs": [
    {
     "data": {
      "image/png": "[encoded data removed]",
      "text/plain": [
       "<Figure size 640x480 with 1 Axes>"
      ]
     },
     "metadata": {},
     "output_type": "display_data"
    }
   ],
   "source": [
    "#ploting the loss curve to visualize the performance of the model\n",
    "import matplotlib.pyplot as plt\n",
    "plt.plot(history.history['loss'], label = 'train_loss')\n",
    "plt.plot(history.history['val_loss'], label = 'val_loss')\n",
    "plt.legend()\n",
    "plt.show()"
   ]
  },
  {
   "cell_type": "code",
   "execution_count": 100,
   "metadata": {},
   "outputs": [
    {
     "data": {
      "image/png": "[encoded data removed]",
      "text/plain": [
       "<Figure size 640x480 with 1 Axes>"
      ]
     },
     "metadata": {},
     "output_type": "display_data"
    },
    {
     "data": {
      "text/plain": [
       "<Figure size 640x480 with 0 Axes>"
      ]
     },
     "metadata": {},
     "output_type": "display_data"
    }
   ],
   "source": [
    "#plotting the accuracy curve\n",
    "plt.plot(history.history['accuracy'], label='train acc')\n",
    "plt.plot(history.history['val_accuracy'], label='val acc')\n",
    "plt.legend()\n",
    "plt.show()\n",
    "plt.savefig('AccVal_acc')"
   ]
  },
  {
   "cell_type": "code",
   "execution_count": 104,
   "metadata": {},
   "outputs": [
    {
     "name": "stdout",
     "output_type": "stream",
     "text": [
      "19/19 [==============================] - 4s 199ms/step - loss: 1.0493 - accuracy: 0.9461\n",
      "loss 1.0492563247680664\n",
      "acc 0.9461279511451721\n"
     ]
    }
   ],
   "source": [
    "#loss and accuracy of the model\n",
    "loss , acc = model.evaluate(X_test, y_test)\n",
    "print('loss', loss)\n",
    "print('acc', acc)"
   ]
  },
  {
   "cell_type": "code",
   "execution_count": 102,
   "metadata": {},
   "outputs": [],
   "source": [
    "#save the model to be used in the program later to predict\n",
    "model.save('face_detection_cnn.h5')"
   ]
  }
 ],
 "metadata": {
  "kernelspec": {
   "display_name": "Python 3",
   "language": "python",
   "name": "python3"
  },
  "language_info": {
   "codemirror_mode": {
    "name": "ipython",
    "version": 3
   },
   "file_extension": ".py",
   "mimetype": "text/x-python",
   "name": "python",
   "nbconvert_exporter": "python",
   "pygments_lexer": "ipython3",
   "version": "3.10.4"
  }
 },
 "nbformat": 4,
 "nbformat_minor": 2
}
